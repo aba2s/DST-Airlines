{
 "cells": [
  {
   "cell_type": "markdown",
   "metadata": {},
   "source": [
    "# AviationStack\n",
    "\n",
    "https://aviationstack.com/quickstart\n",
    "\n",
    "Your API Access Key:\n",
    "e152161e982949f4ed57a10f43544f6c\n",
    "\n",
    "// Real-Time Flights Query:\n",
    "\n",
    "https://api.aviationstack.com/v1/flights\n",
    "    ? access_key = YOUR_ACCESS_KEY\n",
    "    \n",
    "// optional parameters: \n",
    "\n",
    "    & limit = 100\n",
    "    & offset = 0\n",
    "    & callback = MY_CALLBACK\n",
    "    // more parameters available "
   ]
  },
  {
   "cell_type": "code",
   "execution_count": 1,
   "metadata": {},
   "outputs": [],
   "source": [
    "#!/Users/Francis/Desktop/Python3.9/Training/venv/bin/python3\n",
    "# -*- encoding: utf8 -*-\n",
    "\n",
    "import requests\n",
    "import json\n",
    "import configparser\n",
    "import datetime\n",
    "from pprint import pprint"
   ]
  },
  {
   "cell_type": "code",
   "execution_count": null,
   "metadata": {},
   "outputs": [],
   "source": [
    "# Provide your API key in the query string:\n",
    "params = {\n",
    "  'access_key': 'e152161e982949f4ed57a10f43544f6c',\n",
    "  '&limit': 100\n",
    "}\n",
    "\n",
    "# Real time flight tracking:\n",
    "api_result = requests.get('http://api.aviationstack.com/v1/flights', params) # Important note: current plan doesn't allow https encrypted requests.\n",
    "\n",
    "data = api_result.json()\n",
    "output = pprint(data)\n",
    "\n",
    "# Load the JSON data into a JSON file:\n",
    "writeFile = open('data-realtime.json', 'w')\n",
    "writeFile.write(json.dumps(data, indent=4, sort_keys=True))\n",
    "writeFile.close()"
   ]
  },
  {
   "cell_type": "markdown",
   "metadata": {},
   "source": [
    "Please make sure to get a valid api key to retrieve data from airlabs\n",
    "Complete documentation could be found --> https://airlabs.co/docs/flights\n",
    "\n",
    "To use this scrip please set up a virtual environement and install\n",
    "the requirements.txt file"
   ]
  },
  {
   "cell_type": "code",
   "execution_count": 50,
   "metadata": {},
   "outputs": [],
   "source": [
    "params = {\n",
    "  'api_key': '9d2955c1-020a-4343-a6d7-c2f04450735b'\n",
    "}\n",
    "end_point = [\n",
    "    \"flights?\",\n",
    "    \"airlines?\",\n",
    "    \"schedules?\"\n",
    "]\n",
    "\n",
    "api_base = 'http://airlabs.co/api/v9/'"
   ]
  },
  {
   "cell_type": "code",
   "execution_count": 51,
   "metadata": {},
   "outputs": [],
   "source": [
    "# ------------------------------------------------------------------------- #\n",
    "#                Extracting and loading flights's data                      #\n",
    "#                Status: status: 'en-route', 'landed', 'scheduled'          #\n",
    "# --------------------------------------------------------------------------#\n",
    "\n",
    "#flights_request = requests.get(\"https://airlabs.co/api/v9/flights?api_key=9d2955c1-020a-4343-a6d7-c2f04450735b\")\n",
    "#flights_request = flights_request.json()\n",
    "#flights = flights_request[\"response\"]\n",
    "\n",
    "api_result = requests.get(api_base+end_point[0], params)\n",
    "api_response = api_result.json()\n",
    "api_flights = api_response[\"response\"]\n",
    "\n",
    "with open(\"flights.json\", \"w\") as fp:\n",
    "    json.dump(api_flights, fp, indent=4, sort_keys=True)"
   ]
  },
  {
   "cell_type": "code",
   "execution_count": 52,
   "metadata": {},
   "outputs": [],
   "source": [
    "# ------------------------------------------------------------------------- #\n",
    "#                Extracting and loading airline's data                      #\n",
    "# --------------------------------------------------------------------------#\n",
    "\n",
    "api_result = requests.get(api_base+end_point[1], params)\n",
    "api_response = api_result.json()\n",
    "api_flights = api_response[\"response\"]\n",
    "\n",
    "with open(\"airlines.json\", \"w\") as file:\n",
    "    json.dump(api_flights, file, indent=4, sort_keys=True)"
   ]
  },
  {
   "cell_type": "code",
   "execution_count": 53,
   "metadata": {},
   "outputs": [],
   "source": [
    "# ------------------------------------------------------------------------- #\n",
    "#                 Extracting and loading all airports IATA code             #\n",
    "# --------------------------------------------------------------------------#\n",
    "# airports = airportsdata.load('IATA')  # key is IATA code\n",
    "# This part will be completed in next days\n",
    "\n",
    "# ------------------------------------------------------------------------- #\n",
    "#                 Extracting and loading airport's  data                    #\n",
    "# --------------------------------------------------------------------------#\n",
    "\n",
    "params_airport = {\"dep_iata\": \"CDG\"}\n",
    "\n",
    "api_result = requests.get(\"https://airlabs.co/api/v9/schedules?api_key=9d2955c1-020a-4343-a6d7-c2f04450735b\", params_airport)\n",
    "api_response = api_result.json()\n",
    "api_flights = api_response[\"response\"]\n",
    "\n",
    "with open(\"departure_flights.json\", \"w\") as file:\n",
    "    json.dump(api_flights, file, indent=4, sort_keys=True)"
   ]
  }
 ],
 "metadata": {
  "kernelspec": {
   "display_name": "Python 3 (ipykernel)",
   "language": "python",
   "name": "python3"
  },
  "language_info": {
   "codemirror_mode": {
    "name": "ipython",
    "version": 3
   },
   "file_extension": ".py",
   "mimetype": "text/x-python",
   "name": "python",
   "nbconvert_exporter": "python",
   "pygments_lexer": "ipython3",
   "version": "3.8.9"
  },
  "vscode": {
   "interpreter": {
    "hash": "03b3af19da1e38be8e965eeeca32e1bf1250d611ae48cb2cf867795bc7afb489"
   }
  }
 },
 "nbformat": 4,
 "nbformat_minor": 2
}
