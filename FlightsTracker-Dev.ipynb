{
 "cells": [
  {
   "cell_type": "markdown",
   "metadata": {},
   "source": [
    "Assurez-vous avant toute chose d'obtenir une clé pour utiliser l'API de Airlabs à l'adresse ci-après : https://airlabs.co/docs/flights\n",
    "\n",
    "Veuillez configurer un environnement virtuel et y installer l'environnement de développement indiqué dans le fichier requirements.txt\n",
    "\n",
    "_______________________________________________________________________________________\n",
    "\n",
    "Les données utilisées sont stockées dans des fichiers au format JSON répartis dans trois collections. \n",
    "Les tables suivantes décrivent le schéma défini pour chaque collection de jeux de données : AIRLINES ; DEPARTURES ; FLIGHTS.\n",
    "\n",
    "Veuillez vous référer au document des spécifications de conception logiciel (2022-10-07-DSTA-Technical_Specifications.odt) pour plus d'informations."
   ]
  },
  {
   "cell_type": "code",
   "execution_count": 3,
   "metadata": {},
   "outputs": [],
   "source": [
    "# Importation of Python libraries\n",
    "import pandas as pd\n",
    "from IPython.display import display\n",
    "import requests\n",
    "import urllib.request\n",
    "import json\n",
    "import ssl\n",
    "from bokeh.plotting import figure, show, ColumnDataSource\n",
    "from bokeh.layouts import column, row\n",
    "from bokeh.client import push_session\n",
    "from bokeh.models import HoverTool, WMTSTileSource, LinearColorMapper, LabelSet, Label\n",
    "from bokeh.tile_providers import STAMEN_TERRAIN_RETINA, get_provider\n",
    "from bokeh.application import Application\n",
    "from bokeh.application.handlers.function import FunctionHandler\n",
    "from bokeh.server.server import Server\n",
    "from bokeh.io import curdoc\n",
    "import numpy as np\n",
    "import folium"
   ]
  },
  {
   "cell_type": "code",
   "execution_count": 4,
   "metadata": {},
   "outputs": [],
   "source": [
    "# Header\n",
    "ssl._create_default_https_context = ssl._create_unverified_context\n",
    "opener = urllib.request.build_opener()\n",
    "opener.addheaders = [('User-agent', 'Mozilla/5.0')]"
   ]
  },
  {
   "cell_type": "code",
   "execution_count": 5,
   "metadata": {},
   "outputs": [],
   "source": [
    "# Provide your API key in the query string!!!\n",
    "params = {\n",
    "  'api_key': '9d2955c1-020a-4343-a6d7-c2f04450735b'\n",
    "}\n",
    "end_point = [\n",
    "    \"flights?\",\n",
    "    \"airlines?\",\n",
    "    \"schedules?\"\n",
    "]"
   ]
  },
  {
   "cell_type": "code",
   "execution_count": null,
   "metadata": {},
   "outputs": [],
   "source": [
    "# Real time flight tracking URL:\n",
    "api_base = 'http://airlabs.co/api/v9/'\n",
    "\n",
    "# Loading of the data into a JSON named 'flights.json':\n",
    "api_result = requests.get(api_base+end_point[0], params)\n",
    "api_response = api_result.json()\n",
    "api_flights = api_response[\"response\"]\n",
    "\n",
    "with open(\"flights.json\", \"w\") as fp:\n",
    "    json.dump(api_flights, fp, indent=4, sort_keys=True)\n",
    "\n",
    "# Load the JSON file into a dataframe:\n",
    "df = pd.read_json(\"flights.json\")\n",
    "# Control that it is working by printing the dataframe:\n",
    "#display(df)\n",
    "\n",
    "# Convert to Pandas Dataframe\n",
    "flights_df = pd.DataFrame(df, columns = ['lat', 'lng', 'alt', 'flight_icao', 'dep_iata', 'arr_iata', 'airline_iata'])\n",
    "display(flights_df)\n"
   ]
  },
  {
   "cell_type": "markdown",
   "metadata": {},
   "source": [
    "Génération d'une carte en se basant sur la méthodologie de Mercator.\n",
    "_______________________________________________________________________________________\n",
    "\n",
    "France Coordonnées géographiques\n",
    "_______________________________________________________________________________________\n",
    "\n",
    "La France est située à la latitude 46.227638 et à la longitude 2.213749. Ce pays fait partie de l'Europe et de l'hémisphère nord.\n",
    "\n",
    "Coordonnées décimales (Norme simplifiée)\n",
    "46.227638, 2.213749 (Lat, long)\n",
    "\n",
    "Coordonnées DD (Degrés décimaux)\n",
    "46.2276° N 2.2137° E\n",
    "\n",
    "Coordonnées SGD (Degrés, minutes et secondes)\n",
    "46°13'39.5'' N 2°12.825' E\n",
    "\n",
    "Le système de coordonnées géographiques permet de localiser n'importe quel endroit dans le monde en utilisant sa latitude et sa longitude. La latitude est la position par rapport à l'équateur, spécifiant la position nord-sud. La longitude spécifie la position est-ouest mesurée à partir d'un méridien de référence (généralement le premier méridien de Greenwich). La latitude et la longitude de la France ont été calculées sur la base du datum géodésique WGS84 (World Geodesic System 1984)."
   ]
  },
  {
   "cell_type": "code",
   "execution_count": null,
   "metadata": {},
   "outputs": [],
   "source": [
    "# Convert to Pandas Dataframe\n",
    "flights_df = pd.DataFrame(df, columns = ['lat', 'lng', 'alt', 'flight_icao', 'dep_iata', 'arr_iata', 'airline_iata'])\n",
    "display(flights_df)\n",
    "\n",
    "# Convert France GPS coordinates to Web Mercator\n",
    "x_range, y_range = ((-6.403614, 12.229198), (40.587984, 53.007425))\n",
    "\n",
    "# Convert All GPS coordinates to Web Mercator\n",
    "def mercator(df, lat=\"lat\", lon=\"lng\"):\n",
    "    radius = 6378137 # radius of the earth in meters\n",
    "    df[\"x\"] = df[lon] * (radius * np.pi/180.0)\n",
    "    df[\"y\"] = np.log(np.tan((90 + df[lat]) * np.pi/360.0)) * radius\n",
    "    return df\n",
    "\n",
    "# Flights tracking main function\n",
    "def flights_tracker(geo):\n",
    "    # Bokeh column data source\n",
    "    mercator_df = mercator(flights_df)\n",
    "    flights_source = ColumnDataSource(mercator_df)\n",
    "    display(flights_source)\n",
    "\n",
    "    def streaming():\n",
    "        # Map coordinates:\n",
    "        # Objet MAP: https://docs.bokeh.org/en/latest/docs/reference/tile_providers.html\n",
    "        map = figure(tools = 'pan, zoom_in, zoom_out, wheel_zoom, reset, save',\n",
    "        x_range = x_range, y_range = y_range, x_axis_type = 'mercator',\n",
    "          y_axis_type = 'mercator', sizing_mode = 'scale_width', plot_height = 300)\n",
    "\n",
    "        # Add planes geolocalisation and informative labels object:\n",
    "        infos = HoverTool()\n",
    "        infos.tooltips = [('Flight', '@flight_icao'), ('Altitude', '@alt'),\n",
    "         ('Departure', '@dep_iata'), ('Arrival', '@arr_iata'), ('Airline', '@airline_iata')]\n",
    "        labels = LabelSet(x = 'x', y = 'y', text = 'flight_icao', level = 'glyph', x_offset = 5,\n",
    "         y_offset = 5, source = flights_source, render_mode = 'canvas',\n",
    "         background_fill_color = 'skyblue', text_color = 'black', text_font_size = '8pt')\n",
    "\n",
    "        # Add the WMTS tile source to the map object:\n",
    "        map_provider = (get_provider(STAMEN_TERRAIN_RETINA))\n",
    "        map.add_tile(map_provider) # bokeh.tile_providers.StamenTerrainRetina\n",
    "        map.add_tools(infos)                # Fucking doesn't work!!!\n",
    "        map.circle('x', 'y', source = flights_source, fill_color = \"blue\", size = 10, fill_alpha = 0.8, line_width = 0.5)\n",
    "        map.add_layout(labels)\n",
    "\n",
    "        curdoc().title = \"Flights Tracker\"\n",
    "        curdoc().add_root(map)\n",
    "        session = push_session(curdoc())\n",
    "        session.show()\n",
    "\n",
    "#Display the Map in the browser:\n",
    "#show(map)\n",
    "\n",
    "# Server initialization for Bokeh Application (Flights Tracker) on port 48010:\n",
    "# To run through bash terminal: bokeh serve --show FlightsTracker.py\n",
    "apps = {'/': Application(FunctionHandler(flights_tracker))}\n",
    "server = Server(apps, port=48010) # Any unassigned port will do\n",
    "server.io_loop.start()"
   ]
  }
 ],
 "metadata": {
  "kernelspec": {
   "display_name": "Python 3 (ipykernel)",
   "language": "python",
   "name": "python3"
  },
  "language_info": {
   "codemirror_mode": {
    "name": "ipython",
    "version": 3
   },
   "file_extension": ".py",
   "mimetype": "text/x-python",
   "name": "python",
   "nbconvert_exporter": "python",
   "pygments_lexer": "ipython3",
   "version": "3.8.9"
  },
  "vscode": {
   "interpreter": {
    "hash": "03b3af19da1e38be8e965eeeca32e1bf1250d611ae48cb2cf867795bc7afb489"
   }
  }
 },
 "nbformat": 4,
 "nbformat_minor": 2
}
